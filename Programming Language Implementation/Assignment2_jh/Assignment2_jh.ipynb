{
 "cells": [
  {
   "cell_type": "code",
   "execution_count": 1,
   "metadata": {},
   "outputs": [
    {
     "name": "stdout",
     "output_type": "stream",
     "text": [
      "1\n",
      "1\n",
      "3\n"
     ]
    },
    {
     "ename": "SyntaxError",
     "evalue": "unexpected symbol p while parsing (<string>)",
     "output_type": "error",
     "traceback": [
      "Traceback \u001b[1;36m(most recent call last)\u001b[0m:\n",
      "  File \u001b[0;32m\"C:\\Users\\User1\\Anaconda3\\lib\\site-packages\\IPython\\core\\interactiveshell.py\"\u001b[0m, line \u001b[0;32m3325\u001b[0m, in \u001b[0;35mrun_code\u001b[0m\n    exec(code_obj, self.user_global_ns, self.user_ns)\n",
      "  File \u001b[0;32m\"<ipython-input-1-7861fa53f402>\"\u001b[0m, line \u001b[0;32m35\u001b[0m, in \u001b[0;35m<module>\u001b[0m\n    prog()\n",
      "  File \u001b[0;32m\"C:\\Users\\User1\\Python\\CSC402\\P1_A2_jh.py\"\u001b[0m, line \u001b[0;32m50\u001b[0m, in \u001b[0;35mprog\u001b[0m\n    prog()\n",
      "  File \u001b[0;32m\"C:\\Users\\User1\\Python\\CSC402\\P1_A2_jh.py\"\u001b[0m, line \u001b[0;32m50\u001b[0m, in \u001b[0;35mprog\u001b[0m\n    prog()\n",
      "  File \u001b[0;32m\"C:\\Users\\User1\\Python\\CSC402\\P1_A2_jh.py\"\u001b[0m, line \u001b[0;32m49\u001b[0m, in \u001b[0;35mprog\u001b[0m\n    sexp()\n",
      "  File \u001b[0;32m\"C:\\Users\\User1\\Python\\CSC402\\P1_A2_jh.py\"\u001b[0m, line \u001b[0;32m61\u001b[0m, in \u001b[0;35msexp\u001b[0m\n    exp()\n",
      "  File \u001b[0;32m\"C:\\Users\\User1\\Python\\CSC402\\P1_A2_jh.py\"\u001b[0m, line \u001b[0;32m97\u001b[0m, in \u001b[0;35mexp\u001b[0m\n    sexp()\n",
      "  File \u001b[0;32m\"C:\\Users\\User1\\Python\\CSC402\\P1_A2_jh.py\"\u001b[0m, line \u001b[0;32m61\u001b[0m, in \u001b[0;35msexp\u001b[0m\n    exp()\n",
      "  File \u001b[0;32m\"C:\\Users\\User1\\Python\\CSC402\\P1_A2_jh.py\"\u001b[0m, line \u001b[0;32m76\u001b[0m, in \u001b[0;35mexp\u001b[0m\n    sexp()\n",
      "\u001b[1;36m  File \u001b[1;32m\"C:\\Users\\User1\\Python\\CSC402\\P1_A2_jh.py\"\u001b[1;36m, line \u001b[1;32m68\u001b[1;36m, in \u001b[1;35msexp\u001b[1;36m\u001b[0m\n\u001b[1;33m    raise SyntaxError('unexpected symbol {} while parsing'.format(sym))\u001b[0m\n",
      "\u001b[1;36m  File \u001b[1;32m\"<string>\"\u001b[1;36m, line \u001b[1;32munknown\u001b[0m\n\u001b[1;31mSyntaxError\u001b[0m\u001b[1;31m:\u001b[0m unexpected symbol p while parsing\n"
     ]
    }
   ],
   "source": [
    "#This portion of code displays my parser P1_A2_jh\n",
    "#Succesfully parses and counts print statements\n",
    "#Succesfully fails for bad input\n",
    "\n",
    "#import Input Stream, set_stream, prog, and set_count\n",
    "from grammar_stuff import InputStream\n",
    "from P1_A2_jh import set_stream, prog, set_count\n",
    "\n",
    "#(p (+ (* 3 2) 1))\n",
    "set_stream(InputStream(list(\"\".join(\"(p (+ (* 3 2) 1))\".split()))))\n",
    "set_count()\n",
    "prog()\n",
    "\n",
    "#(s x 1)\n",
    "#(s y x)\n",
    "#(p (+ x y))\n",
    "set_stream(InputStream(list(\"\".join(\"(s x 1) (s y x) (p (+ x y))\".split()))))\n",
    "set_count()\n",
    "prog()\n",
    "\n",
    "#(s x 1)\n",
    "#(p x)\n",
    "#(s y 2)\n",
    "#(p y)\n",
    "#(p (+ x y))\n",
    "set_stream(InputStream(list(\"\".join(\"(s x 1) (p x) (s y 2) (p y) (p (+ x y))\".split()))))\n",
    "set_count()\n",
    "prog()\n",
    "\n",
    "#(s x 1)\n",
    "#(s y x)\n",
    "#(p (+ x p))\n",
    "set_stream(InputStream(list(\"\".join(\"(s x 1) (s y x) (p (+ x p))\".split()))))\n",
    "set_count()\n",
    "prog()"
   ]
  },
  {
   "cell_type": "code",
   "execution_count": 2,
   "metadata": {},
   "outputs": [
    {
     "name": "stdout",
     "output_type": "stream",
     "text": [
      "Syntax error at 'p'\n"
     ]
    }
   ],
   "source": [
    "#Example of my gram and lex files\n",
    "#Successfully parses, fails for bad input\n",
    "\n",
    "#import parser, lexer\n",
    "from jh_gram import parser\n",
    "from jh_lex import lexer\n",
    "\n",
    "#(p (+ (* 3 2) 1))\n",
    "parser.parse(input=\"(p (+ (* 3 2) 1))\", lexer=lexer)\n",
    "\n",
    "#(s x 1)\n",
    "#(s y x)\n",
    "#(p (+ x y))\n",
    "parser.parse(input=\"(s x 1) (s y x) (p (+ x y))\", lexer=lexer)\n",
    "\n",
    "#(s x 1)\n",
    "#(p x)\n",
    "#(s y 2)\n",
    "#(p y)\n",
    "#(p (+ x y))\n",
    "parser.parse(input=\"(s x 1) (p x) (s y 2) (p y) (p (+ x y))\", lexer=lexer)\n",
    "\n",
    "#(s x 1)\n",
    "#(s y x)\n",
    "#(p (+ x p))\n",
    "parser.parse(input=\"(s x 1) (s y x) (p (+ x p))\", lexer=lexer)"
   ]
  },
  {
   "cell_type": "code",
   "execution_count": 3,
   "metadata": {},
   "outputs": [
    {
     "name": "stdout",
     "output_type": "stream",
     "text": [
      "count = 1\n",
      "count = 1\n",
      "count = 3\n",
      "Syntax error at 'p'\n",
      "count = 0\n"
     ]
    }
   ],
   "source": [
    "#Example of my count and lex files\n",
    "#Succesfully parses, fails for bad input\n",
    "\n",
    "#import parser, lexer, init_count\n",
    "from jh_count import parser, init_count\n",
    "from jh_lex import lexer\n",
    "\n",
    "#(p (+ (* 3 2) 1))\n",
    "init_count()\n",
    "parser.parse(input=\"(p (+ (* 3 2) 1))\", lexer=lexer)\\\n",
    "\n",
    "#(s x 1)\n",
    "#(s y x)\n",
    "#(p (+ x y))\n",
    "init_count()\n",
    "parser.parse(input=\"(s x 1) (s y x) (p (+ x y))\", lexer=lexer)\n",
    "\n",
    "#(s x 1)\n",
    "#(p x)\n",
    "#(s y 2)\n",
    "#(p y)\n",
    "#(p (+ x y))\n",
    "init_count()\n",
    "parser.parse(input=\"(s x 1) (p x) (s y 2) (p y) (p (+ x y))\", lexer=lexer)\n",
    "\n",
    "#(s x 1)\n",
    "#(s y x)\n",
    "#(p (+ x p))\n",
    "init_count()\n",
    "parser.parse(input=\"(s x 1) (s y x) (p (+ x p))\", lexer=lexer)"
   ]
  },
  {
   "cell_type": "code",
   "execution_count": null,
   "metadata": {},
   "outputs": [],
   "source": []
  },
  {
   "cell_type": "code",
   "execution_count": null,
   "metadata": {},
   "outputs": [],
   "source": []
  }
 ],
 "metadata": {
  "kernelspec": {
   "display_name": "Python 3",
   "language": "python",
   "name": "python3"
  },
  "language_info": {
   "codemirror_mode": {
    "name": "ipython",
    "version": 3
   },
   "file_extension": ".py",
   "mimetype": "text/x-python",
   "name": "python",
   "nbconvert_exporter": "python",
   "pygments_lexer": "ipython3",
   "version": "3.7.3"
  }
 },
 "nbformat": 4,
 "nbformat_minor": 2
}
