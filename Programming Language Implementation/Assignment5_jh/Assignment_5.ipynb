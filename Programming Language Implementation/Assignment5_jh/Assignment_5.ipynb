{
 "cells": [
  {
   "cell_type": "code",
   "execution_count": 2,
   "metadata": {
    "scrolled": true
   },
   "outputs": [
    {
     "name": "stdout",
     "output_type": "stream",
     "text": [
      "\n",
      "x = 1;\n",
      "put x;\n",
      "\n",
      " seq  \n",
      "   | assign x \n",
      "   |   | integer 1 \n",
      "   | seq  \n",
      "   |   | put  \n",
      "   |   |   | id x \n",
      "   |   | nil  \n",
      "\n",
      "\n",
      "get x;\n",
      "if (x)\n",
      "put 1;\n",
      "else\n",
      "put 0;\n",
      "\n",
      " seq  \n",
      "   | get x \n",
      "   | seq  \n",
      "   |   | if  \n",
      "   |   |   | id x \n",
      "   |   |   | put  \n",
      "   |   |   |   | integer 1 \n",
      "   |   |   | put  \n",
      "   |   |   |   | integer 0 \n",
      "   |   | nil  \n",
      "\n",
      "\n",
      "get x;\n",
      "while (1 <= x)\n",
      "{\n",
      "put x;\n",
      "x = x - 1;\n",
      "}\n",
      "\n",
      " seq  \n",
      "   | get x \n",
      "   | seq  \n",
      "   |   | while  \n",
      "   |   |   | <=  \n",
      "   |   |   |   | integer 1 \n",
      "   |   |   |   | id x \n",
      "   |   |   | block  \n",
      "   |   |   |   | seq  \n",
      "   |   |   |   |   | put  \n",
      "   |   |   |   |   |   | id x \n",
      "   |   |   |   |   | seq  \n",
      "   |   |   |   |   |   | assign x \n",
      "   |   |   |   |   |   |   | -  \n",
      "   |   |   |   |   |   |   |   | id x \n",
      "   |   |   |   |   |   |   |   | integer 1 \n",
      "   |   |   |   |   |   | nil  \n",
      "   |   | nil  \n"
     ]
    }
   ],
   "source": [
    "from cuppa1_pp import ppjh\n",
    "x = \\\n",
    "'''\n",
    "x = 1;\n",
    "put x;\n",
    "'''\n",
    "y = \\\n",
    "'''\n",
    "get x;\n",
    "if (x)\n",
    "put 1;\n",
    "else\n",
    "put 0;\n",
    "'''\n",
    "z = \\\n",
    "'''\n",
    "get x;\n",
    "while (1 <= x)\n",
    "{\n",
    "put x;\n",
    "x = x - 1;\n",
    "}\n",
    "'''\n",
    "print(x)\n",
    "ppjh(x)\n",
    "print(\"\")\n",
    "print(y)\n",
    "ppjh(y)\n",
    "print(\"\")\n",
    "print(z)\n",
    "ppjh(z)\n",
    "\n"
   ]
  },
  {
   "cell_type": "markdown",
   "metadata": {},
   "source": []
  },
  {
   "cell_type": "code",
   "execution_count": null,
   "metadata": {},
   "outputs": [],
   "source": []
  }
 ],
 "metadata": {
  "kernelspec": {
   "display_name": "Python 3",
   "language": "python",
   "name": "python3"
  },
  "language_info": {
   "codemirror_mode": {
    "name": "ipython",
    "version": 3
   },
   "file_extension": ".py",
   "mimetype": "text/x-python",
   "name": "python",
   "nbconvert_exporter": "python",
   "pygments_lexer": "ipython3",
   "version": "3.7.3"
  }
 },
 "nbformat": 4,
 "nbformat_minor": 2
}
