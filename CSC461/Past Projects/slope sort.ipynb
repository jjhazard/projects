{
 "cells": [
  {
   "cell_type": "code",
   "execution_count": 4,
   "metadata": {},
   "outputs": [
    {
     "data": {
      "text/plain": [
       "[10,\n",
       " 9,\n",
       " 33,\n",
       " 26,\n",
       " 90,\n",
       " 13,\n",
       " 59,\n",
       " 92,\n",
       " 73,\n",
       " 11,\n",
       " 68,\n",
       " 42,\n",
       " 1,\n",
       " 4,\n",
       " 80,\n",
       " 12,\n",
       " 67,\n",
       " 69,\n",
       " 83,\n",
       " 87,\n",
       " 49,\n",
       " 86,\n",
       " 94,\n",
       " 36,\n",
       " 42,\n",
       " 11,\n",
       " 90,\n",
       " 87,\n",
       " 4,\n",
       " 70,\n",
       " 22,\n",
       " 26,\n",
       " 41,\n",
       " 83,\n",
       " 6,\n",
       " 84,\n",
       " 23,\n",
       " 25,\n",
       " 3,\n",
       " 97]"
      ]
     },
     "execution_count": 4,
     "metadata": {},
     "output_type": "execute_result"
    }
   ],
   "source": [
    "import random\n",
    "randoms = [random.randint(0, 100) for x in range(40)]\n",
    "randoms"
   ]
  },
  {
   "cell_type": "code",
   "execution_count": 29,
   "metadata": {},
   "outputs": [
    {
     "name": "stdout",
     "output_type": "stream",
     "text": [
      "[97, 9, 33, 90, 90, 13, 83, 92, 73, 11, 68, 42, 68, 4, 80, 12, 67, 69, 83, 87, 49, 86, 94, 36, 42, 11, 90, 87, 4, 70, 22, 26, 41, 83, 6, 84, 11, 25, 3, 97]\n",
      "40.0\n",
      "3.0\n",
      "13.0\n",
      "37.0\n",
      "37.0\n",
      "5.0\n",
      "34.0\n",
      "38.0\n",
      "30.0\n",
      "4.0\n",
      "28.0\n",
      "17.0\n",
      "28.0\n",
      "1.0\n",
      "33.0\n",
      "4.0\n",
      "27.0\n",
      "28.0\n",
      "34.0\n",
      "36.0\n",
      "20.0\n",
      "35.0\n",
      "39.0\n",
      "14.0\n",
      "17.0\n",
      "4.0\n",
      "37.0\n",
      "36.0\n",
      "1.0\n",
      "29.0\n",
      "9.0\n",
      "10.0\n",
      "17.0\n",
      "34.0\n",
      "2.0\n",
      "34.0\n",
      "4.0\n",
      "10.0\n",
      "1.0\n",
      "40.0\n",
      "[97, 9, 33, 90, 90, 13, 83, 92, 73, 11, 68, 42, 68, 4, 80, 12, 67, 69, 83, 87, 49, 86, 94, 36, 42, 11, 90, 87, 4, 70, 22, 26, 41, 83, 6, 84, 11, 25, 3, 97]\n"
     ]
    }
   ],
   "source": [
    "bot = 10000\n",
    "top = -10000\n",
    "for x in randoms:\n",
    "    if bot > x:\n",
    "        bot = x\n",
    "    elif top < x:\n",
    "        top = x\n",
    "slope = (top-bot)/(len(randoms)-1)\n",
    "sortrands = randoms\n",
    "print(sortrands)\n",
    "for i in range(len(randoms)):\n",
    "    print((randoms[i]//slope))\n",
    "    #sortrands[int(slope*randoms[i]))] = randoms[i]\n",
    "print(sortrands)"
   ]
  },
  {
   "cell_type": "code",
   "execution_count": null,
   "metadata": {},
   "outputs": [],
   "source": []
  }
 ],
 "metadata": {
  "kernelspec": {
   "display_name": "Python 3",
   "language": "python",
   "name": "python3"
  },
  "language_info": {
   "codemirror_mode": {
    "name": "ipython",
    "version": 3
   },
   "file_extension": ".py",
   "mimetype": "text/x-python",
   "name": "python",
   "nbconvert_exporter": "python",
   "pygments_lexer": "ipython3",
   "version": "3.7.3"
  }
 },
 "nbformat": 4,
 "nbformat_minor": 2
}
