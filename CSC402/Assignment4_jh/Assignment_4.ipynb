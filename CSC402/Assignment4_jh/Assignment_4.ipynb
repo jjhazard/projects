{
 "cells": [
  {
   "cell_type": "code",
   "execution_count": 4,
   "metadata": {},
   "outputs": [],
   "source": [
    "#Jesse Hazard\n",
    "#Assignment 4\n",
    "#Problem 1\n",
    "from exp1bytecode_interp import lexer, parser\n",
    "input_stream = \\\n",
    "'''\n",
    "  // print out a sequence of integers\n",
    "    push 10;\n",
    "L1:\n",
    "    dup;\n",
    "    print;\n",
    "    push 1;\n",
    "    sub;\n",
    "    dup;\n",
    "    jumpT L1;\n",
    "    stop \"all done!\";\n",
    "\n",
    "'''\n",
    "parser.parse(input_stream)\n",
    "\n",
    "input_stream = \\\n",
    "'''\n",
    "  // print out a sequence of integers\n",
    "    push 10;\n",
    "L1:\n",
    "    push 1;\n",
    "    push 1;\n",
    "    sub;\n",
    "    dup;\n",
    "    print \"The value is: \";\n",
    "    jumpT L1;\n",
    "'''\n",
    "parser.parse(input_stream)"
   ]
  },
  {
   "cell_type": "code",
   "execution_count": 5,
   "metadata": {},
   "outputs": [
    {
     "name": "stdout",
     "output_type": "stream",
     "text": [
      "> 10\n",
      "> 9\n",
      "> 8\n",
      "> 7\n",
      "> 6\n",
      "> 5\n",
      "> 4\n",
      "> 3\n",
      "> 2\n",
      "> 1\n",
      "> all done!\n",
      "> The value is: \n",
      "> 0\n"
     ]
    }
   ],
   "source": [
    "#Jesse Hazard\n",
    "#Assignment 4\n",
    "#Problem 2\n",
    "from exp1bytecode_interp import interp, lexer, parser\n",
    "input_stream = \\\n",
    "'''\n",
    "  // print out a sequence of integers\n",
    "    push 10;\n",
    "L1:\n",
    "    dup;\n",
    "    print;\n",
    "    push 1;\n",
    "    sub;\n",
    "    dup;\n",
    "    jumpT L1;\n",
    "    stop \"all done!\";\n",
    "\n",
    "'''\n",
    "interp(input_stream)\n",
    "\n",
    "\n",
    "input_stream = \\\n",
    "'''\n",
    "  // print out a sequence of integers\n",
    "    push 10;\n",
    "L1:\n",
    "    push 1;\n",
    "    push 1;\n",
    "    sub;\n",
    "    dup;\n",
    "    print \"The value is: \";\n",
    "    jumpT L1;\n",
    "'''\n",
    "interp(input_stream)"
   ]
  },
  {
   "cell_type": "code",
   "execution_count": 6,
   "metadata": {},
   "outputs": [
    {
     "name": "stdout",
     "output_type": "stream",
     "text": [
      "For what number do you want to calculate the factorial? 5\n",
      "> The value is: \n",
      "> 1\n"
     ]
    }
   ],
   "source": [
    "#Jesse Hazard\n",
    "#Assignment 4\n",
    "#Extra Credit\n",
    "from exp1bytecode_interp import interp, lexer, parser\n",
    "input_stream = \\\n",
    "'''\n",
    "  // Find the factorial of a number\n",
    "    push 1;\n",
    "    ask \"For what number do you want to calculate the factorial? \" ;\n",
    "L1:\n",
    "    dup;\n",
    "    push 1;\n",
    "    sub;\n",
    "    push 1;\n",
    "    equ;\n",
    "    jumpT L1;\n",
    "    push 0;\n",
    "L2:\n",
    "    mul;\n",
    "    //Not sure how to make this part work\n",
    "    jumpT L2;\n",
    "    print \"The value is: \";\n",
    "'''\n",
    "interp(input_stream)"
   ]
  },
  {
   "cell_type": "markdown",
   "metadata": {},
   "source": []
  }
 ],
 "metadata": {
  "kernelspec": {
   "display_name": "Python 3",
   "language": "python",
   "name": "python3"
  },
  "language_info": {
   "codemirror_mode": {
    "name": "ipython",
    "version": 3
   },
   "file_extension": ".py",
   "mimetype": "text/x-python",
   "name": "python",
   "nbconvert_exporter": "python",
   "pygments_lexer": "ipython3",
   "version": "3.7.3"
  }
 },
 "nbformat": 4,
 "nbformat_minor": 2
}
